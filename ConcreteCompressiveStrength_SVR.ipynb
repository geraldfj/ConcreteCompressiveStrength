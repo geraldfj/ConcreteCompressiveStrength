{
 "cells": [
  {
   "cell_type": "code",
   "execution_count": 1,
   "metadata": {},
   "outputs": [],
   "source": [
    "import pandas as pd\n",
    "import numpy as np\n",
    "\n",
    "df = pd.read_excel('Concrete_Data.xls')"
   ]
  },
  {
   "cell_type": "code",
   "execution_count": 2,
   "metadata": {},
   "outputs": [
    {
     "data": {
      "text/html": [
       "<div>\n",
       "<style scoped>\n",
       "    .dataframe tbody tr th:only-of-type {\n",
       "        vertical-align: middle;\n",
       "    }\n",
       "\n",
       "    .dataframe tbody tr th {\n",
       "        vertical-align: top;\n",
       "    }\n",
       "\n",
       "    .dataframe thead th {\n",
       "        text-align: right;\n",
       "    }\n",
       "</style>\n",
       "<table border=\"1\" class=\"dataframe\">\n",
       "  <thead>\n",
       "    <tr style=\"text-align: right;\">\n",
       "      <th></th>\n",
       "      <th>Cement (component 1)(kg in a m^3 mixture)</th>\n",
       "      <th>Blast Furnace Slag (component 2)(kg in a m^3 mixture)</th>\n",
       "      <th>Fly Ash (component 3)(kg in a m^3 mixture)</th>\n",
       "      <th>Water  (component 4)(kg in a m^3 mixture)</th>\n",
       "      <th>Superplasticizer (component 5)(kg in a m^3 mixture)</th>\n",
       "      <th>Coarse Aggregate  (component 6)(kg in a m^3 mixture)</th>\n",
       "      <th>Fine Aggregate (component 7)(kg in a m^3 mixture)</th>\n",
       "      <th>Age (day)</th>\n",
       "      <th>Concrete compressive strength(MPa, megapascals)</th>\n",
       "    </tr>\n",
       "  </thead>\n",
       "  <tbody>\n",
       "    <tr>\n",
       "      <th>0</th>\n",
       "      <td>540.0</td>\n",
       "      <td>0.0</td>\n",
       "      <td>0.0</td>\n",
       "      <td>162.0</td>\n",
       "      <td>2.5</td>\n",
       "      <td>1040.0</td>\n",
       "      <td>676.0</td>\n",
       "      <td>28</td>\n",
       "      <td>79.986111</td>\n",
       "    </tr>\n",
       "    <tr>\n",
       "      <th>1</th>\n",
       "      <td>540.0</td>\n",
       "      <td>0.0</td>\n",
       "      <td>0.0</td>\n",
       "      <td>162.0</td>\n",
       "      <td>2.5</td>\n",
       "      <td>1055.0</td>\n",
       "      <td>676.0</td>\n",
       "      <td>28</td>\n",
       "      <td>61.887366</td>\n",
       "    </tr>\n",
       "    <tr>\n",
       "      <th>2</th>\n",
       "      <td>332.5</td>\n",
       "      <td>142.5</td>\n",
       "      <td>0.0</td>\n",
       "      <td>228.0</td>\n",
       "      <td>0.0</td>\n",
       "      <td>932.0</td>\n",
       "      <td>594.0</td>\n",
       "      <td>270</td>\n",
       "      <td>40.269535</td>\n",
       "    </tr>\n",
       "    <tr>\n",
       "      <th>3</th>\n",
       "      <td>332.5</td>\n",
       "      <td>142.5</td>\n",
       "      <td>0.0</td>\n",
       "      <td>228.0</td>\n",
       "      <td>0.0</td>\n",
       "      <td>932.0</td>\n",
       "      <td>594.0</td>\n",
       "      <td>365</td>\n",
       "      <td>41.052780</td>\n",
       "    </tr>\n",
       "    <tr>\n",
       "      <th>4</th>\n",
       "      <td>198.6</td>\n",
       "      <td>132.4</td>\n",
       "      <td>0.0</td>\n",
       "      <td>192.0</td>\n",
       "      <td>0.0</td>\n",
       "      <td>978.4</td>\n",
       "      <td>825.5</td>\n",
       "      <td>360</td>\n",
       "      <td>44.296075</td>\n",
       "    </tr>\n",
       "  </tbody>\n",
       "</table>\n",
       "</div>"
      ],
      "text/plain": [
       "   Cement (component 1)(kg in a m^3 mixture)  \\\n",
       "0                                      540.0   \n",
       "1                                      540.0   \n",
       "2                                      332.5   \n",
       "3                                      332.5   \n",
       "4                                      198.6   \n",
       "\n",
       "   Blast Furnace Slag (component 2)(kg in a m^3 mixture)  \\\n",
       "0                                                0.0       \n",
       "1                                                0.0       \n",
       "2                                              142.5       \n",
       "3                                              142.5       \n",
       "4                                              132.4       \n",
       "\n",
       "   Fly Ash (component 3)(kg in a m^3 mixture)  \\\n",
       "0                                         0.0   \n",
       "1                                         0.0   \n",
       "2                                         0.0   \n",
       "3                                         0.0   \n",
       "4                                         0.0   \n",
       "\n",
       "   Water  (component 4)(kg in a m^3 mixture)  \\\n",
       "0                                      162.0   \n",
       "1                                      162.0   \n",
       "2                                      228.0   \n",
       "3                                      228.0   \n",
       "4                                      192.0   \n",
       "\n",
       "   Superplasticizer (component 5)(kg in a m^3 mixture)  \\\n",
       "0                                                2.5     \n",
       "1                                                2.5     \n",
       "2                                                0.0     \n",
       "3                                                0.0     \n",
       "4                                                0.0     \n",
       "\n",
       "   Coarse Aggregate  (component 6)(kg in a m^3 mixture)  \\\n",
       "0                                             1040.0      \n",
       "1                                             1055.0      \n",
       "2                                              932.0      \n",
       "3                                              932.0      \n",
       "4                                              978.4      \n",
       "\n",
       "   Fine Aggregate (component 7)(kg in a m^3 mixture)  Age (day)  \\\n",
       "0                                              676.0         28   \n",
       "1                                              676.0         28   \n",
       "2                                              594.0        270   \n",
       "3                                              594.0        365   \n",
       "4                                              825.5        360   \n",
       "\n",
       "   Concrete compressive strength(MPa, megapascals)   \n",
       "0                                         79.986111  \n",
       "1                                         61.887366  \n",
       "2                                         40.269535  \n",
       "3                                         41.052780  \n",
       "4                                         44.296075  "
      ]
     },
     "execution_count": 2,
     "metadata": {},
     "output_type": "execute_result"
    }
   ],
   "source": [
    "df.head()"
   ]
  },
  {
   "cell_type": "code",
   "execution_count": 3,
   "metadata": {},
   "outputs": [
    {
     "data": {
      "text/plain": [
       "(1030, 9)"
      ]
     },
     "execution_count": 3,
     "metadata": {},
     "output_type": "execute_result"
    }
   ],
   "source": [
    "df.shape"
   ]
  },
  {
   "cell_type": "code",
   "execution_count": 4,
   "metadata": {},
   "outputs": [
    {
     "data": {
      "text/plain": [
       "array(['Cement (component 1)(kg in a m^3 mixture)',\n",
       "       'Blast Furnace Slag (component 2)(kg in a m^3 mixture)',\n",
       "       'Fly Ash (component 3)(kg in a m^3 mixture)',\n",
       "       'Water  (component 4)(kg in a m^3 mixture)',\n",
       "       'Superplasticizer (component 5)(kg in a m^3 mixture)',\n",
       "       'Coarse Aggregate  (component 6)(kg in a m^3 mixture)',\n",
       "       'Fine Aggregate (component 7)(kg in a m^3 mixture)', 'Age (day)',\n",
       "       'Concrete compressive strength(MPa, megapascals) '], dtype=object)"
      ]
     },
     "execution_count": 4,
     "metadata": {},
     "output_type": "execute_result"
    }
   ],
   "source": [
    "df.columns.values"
   ]
  },
  {
   "cell_type": "code",
   "execution_count": 5,
   "metadata": {},
   "outputs": [],
   "source": [
    "features = df[['Cement (component 1)(kg in a m^3 mixture)',\n",
    "       'Blast Furnace Slag (component 2)(kg in a m^3 mixture)',\n",
    "       'Fly Ash (component 3)(kg in a m^3 mixture)',\n",
    "       'Water  (component 4)(kg in a m^3 mixture)',\n",
    "       'Superplasticizer (component 5)(kg in a m^3 mixture)',\n",
    "       'Coarse Aggregate  (component 6)(kg in a m^3 mixture)',\n",
    "       'Fine Aggregate (component 7)(kg in a m^3 mixture)', 'Age (day)']]\n",
    "\n",
    "labels = df['Concrete compressive strength(MPa, megapascals) ']"
   ]
  },
  {
   "cell_type": "code",
   "execution_count": 6,
   "metadata": {},
   "outputs": [
    {
     "data": {
      "text/plain": [
       "(1030, 8)"
      ]
     },
     "execution_count": 6,
     "metadata": {},
     "output_type": "execute_result"
    }
   ],
   "source": [
    "features.shape"
   ]
  },
  {
   "cell_type": "code",
   "execution_count": 7,
   "metadata": {},
   "outputs": [
    {
     "data": {
      "text/plain": [
       "(1030,)"
      ]
     },
     "execution_count": 7,
     "metadata": {},
     "output_type": "execute_result"
    }
   ],
   "source": [
    "labels.shape"
   ]
  },
  {
   "cell_type": "code",
   "execution_count": 8,
   "metadata": {},
   "outputs": [],
   "source": [
    "from sklearn.model_selection import train_test_split\n",
    "from sklearn.utils import shuffle\n",
    "features,labels = shuffle(features,labels)\n",
    "train_real_split = 0.03\n",
    "x,xreal,y,yreal = train_test_split(features,labels,test_size=train_real_split,random_state=42)"
   ]
  },
  {
   "cell_type": "code",
   "execution_count": 9,
   "metadata": {},
   "outputs": [
    {
     "data": {
      "text/plain": [
       "((999, 8), (31, 8), (999,), (31,))"
      ]
     },
     "execution_count": 9,
     "metadata": {},
     "output_type": "execute_result"
    }
   ],
   "source": [
    "x.shape, xreal.shape, y.shape, yreal.shape"
   ]
  },
  {
   "cell_type": "code",
   "execution_count": 10,
   "metadata": {},
   "outputs": [
    {
     "name": "stderr",
     "output_type": "stream",
     "text": [
      "C:\\Users\\gjohn1\\AppData\\Local\\Continuum\\anaconda3\\lib\\site-packages\\sklearn\\preprocessing\\data.py:323: DataConversionWarning: Data with input dtype int64, float64 were all converted to float64 by MinMaxScaler.\n",
      "  return self.partial_fit(X, y)\n",
      "C:\\Users\\gjohn1\\AppData\\Local\\Continuum\\anaconda3\\lib\\site-packages\\sklearn\\preprocessing\\data.py:323: DataConversionWarning: Data with input dtype int64, float64 were all converted to float64 by MinMaxScaler.\n",
      "  return self.partial_fit(X, y)\n"
     ]
    }
   ],
   "source": [
    "from sklearn.preprocessing import MinMaxScaler\n",
    "\n",
    "scaler_x = MinMaxScaler()\n",
    "x = scaler_x.fit_transform(x)\n",
    "\n",
    "scaler_xreal = MinMaxScaler()\n",
    "xreal = scaler_xreal.fit_transform(xreal)"
   ]
  },
  {
   "cell_type": "code",
   "execution_count": 11,
   "metadata": {},
   "outputs": [],
   "source": [
    "test_size = 0.15\n",
    "Xtrain,Xtest,ytrain,ytest = train_test_split(x,y,test_size=test_size,random_state=42)"
   ]
  },
  {
   "cell_type": "code",
   "execution_count": 12,
   "metadata": {},
   "outputs": [
    {
     "data": {
      "text/plain": [
       "((849, 8), (150, 8), (849,), (150,))"
      ]
     },
     "execution_count": 12,
     "metadata": {},
     "output_type": "execute_result"
    }
   ],
   "source": [
    "Xtrain.shape,Xtest.shape,ytrain.shape,ytest.shape"
   ]
  },
  {
   "cell_type": "code",
   "execution_count": 13,
   "metadata": {},
   "outputs": [],
   "source": [
    "from sklearn.svm import LinearSVR\n",
    "from sklearn.metrics import mean_squared_error\n",
    "from matplotlib import pyplot as plt\n",
    "\n",
    "\n",
    "def plot_learning_curves(model,X,y):\n",
    "    X_train, X_val, y_train, y_val = train_test_split(X,y,test_size=0.2)\n",
    "    train_errors, val_errors = [], []\n",
    "    for m in range(1,len(X_train)):\n",
    "        model.fit(X_train[:m], y_train[:m])\n",
    "        y_train_predict = model.predict(X_train[:m])\n",
    "        y_val_predict = model.predict(X_val)\n",
    "        train_errors.append(mean_squared_error(y_train[:m],y_train_predict))\n",
    "        val_errors.append(mean_squared_error(y_val,y_val_predict))\n",
    "    plt.plot(np.sqrt(train_errors), \"r-+\",linewidth=2,label=\"train\")\n",
    "    plt.plot(np.sqrt(val_errors), \"b-\",linewidth=3,label=\"val\")\n",
    "    plt.xlabel(\"Training test size\")\n",
    "    plt.xlabel(\"RSME\")\n",
    "\n",
    "\n",
    "\n"
   ]
  },
  {
   "cell_type": "code",
   "execution_count": 14,
   "metadata": {},
   "outputs": [
    {
     "data": {
      "image/png": "[encoded data removed]",
      "text/plain": [
       "<Figure size 432x288 with 1 Axes>"
      ]
     },
     "metadata": {
      "needs_background": "light"
     },
     "output_type": "display_data"
    }
   ],
   "source": [
    "from sklearn.svm import SVR\n",
    "svm_poly_reg = SVR(kernel=\"poly\", degree=2, C=200, epsilon=0.01, gamma=\"auto\")\n",
    "plot_learning_curves(svm_poly_reg,Xtrain,ytrain)"
   ]
  },
  {
   "cell_type": "code",
   "execution_count": 15,
   "metadata": {},
   "outputs": [
    {
     "data": {
      "text/plain": [
       "65.3243144321333"
      ]
     },
     "execution_count": 15,
     "metadata": {},
     "output_type": "execute_result"
    }
   ],
   "source": [
    "yreal_predict = svm_poly_reg.predict(xreal)\n",
    "errors_real = mean_squared_error(yreal,yreal_predict)\n",
    "errors_real"
   ]
  },
  {
   "cell_type": "code",
   "execution_count": 16,
   "metadata": {},
   "outputs": [
    {
     "data": {
      "text/plain": [
       "87.93950064685095"
      ]
     },
     "execution_count": 16,
     "metadata": {},
     "output_type": "execute_result"
    }
   ],
   "source": [
    "ytest_predict = svm_poly_reg.predict(Xtest)\n",
    "errors_real = mean_squared_error(ytest,ytest_predict)\n",
    "errors_real"
   ]
  },
  {
   "cell_type": "code",
   "execution_count": 17,
   "metadata": {},
   "outputs": [
    {
     "name": "stdout",
     "output_type": "stream",
     "text": [
      "Predicted: 42.2676, Actual: 44.2078\n",
      "Predicted: 44.6279, Actual: 40.3895\n",
      "Predicted: 33.7984, Actual: 37.4248\n",
      "Predicted: 57.507, Actual: 43.6983\n",
      "Predicted: 57.5879, Actual: 43.6983\n",
      "Predicted: 31.8647, Actual: 23.8352\n",
      "Predicted: 33.0264, Actual: 37.3634\n",
      "Predicted: 28.6635, Actual: 15.3408\n",
      "Predicted: 52.6769, Actual: 45.3675\n",
      "Predicted: 50.7627, Actual: 46.6844\n",
      "Predicted: 54.9549, Actual: 60.2947\n",
      "Predicted: 47.376, Actual: 47.8152\n",
      "Predicted: 49.3677, Actual: 40.7591\n",
      "Predicted: 42.7027, Actual: 52.4209\n",
      "Predicted: 35.2673, Actual: 16.1096\n",
      "Predicted: 21.2688, Actual: 21.9667\n",
      "Predicted: 46.0958, Actual: 38.9968\n",
      "Predicted: 40.0121, Actual: 24.4047\n",
      "Predicted: 18.4287, Actual: 14.4997\n",
      "Predicted: 21.0173, Actual: 13.2931\n",
      "Predicted: 32.8522, Actual: 33.3065\n",
      "Predicted: 35.9623, Actual: 24.1041\n",
      "Predicted: 57.3929, Actual: 65.9966\n",
      "Predicted: 30.644, Actual: 24.0655\n",
      "Predicted: 48.0056, Actual: 28.2961\n",
      "Predicted: 28.9161, Actual: 17.2362\n",
      "Predicted: 43.9144, Actual: 57.2182\n",
      "Predicted: 26.2707, Actual: 29.9302\n",
      "Predicted: 23.0859, Actual: 13.089\n",
      "Predicted: 50.2585, Actual: 33.3982\n",
      "Predicted: 35.131, Actual: 33.3568\n",
      "Predicted: 31.8579, Actual: 30.0798\n",
      "Predicted: 29.4684, Actual: 39.358\n",
      "Predicted: 43.1501, Actual: 33.5637\n",
      "Predicted: 26.0558, Actual: 15.6911\n",
      "Predicted: 15.1175, Actual: 11.466\n",
      "Predicted: 24.3836, Actual: 17.5403\n",
      "Predicted: 34.7341, Actual: 30.8472\n",
      "Predicted: 49.9776, Actual: 25.0211\n",
      "Predicted: 35.9132, Actual: 36.4478\n",
      "Predicted: 65.6595, Actual: 79.4001\n",
      "Predicted: 38.3793, Actual: 37.2593\n",
      "Predicted: 71.6101, Actual: 82.5992\n",
      "Predicted: 31.665, Actual: 6.2673\n",
      "Predicted: 58.2823, Actual: 77.2972\n",
      "Predicted: 40.4739, Actual: 42.0305\n",
      "Predicted: 41.3746, Actual: 43.7983\n",
      "Predicted: 38.6599, Actual: 38.8044\n",
      "Predicted: 43.2674, Actual: 51.9589\n",
      "Predicted: 35.1278, Actual: 36.3499\n",
      "Predicted: 54.7142, Actual: 43.013\n",
      "Predicted: 46.5348, Actual: 45.8984\n",
      "Predicted: 37.2805, Actual: 21.9171\n",
      "Predicted: 50.4603, Actual: 46.2018\n",
      "Predicted: 49.273, Actual: 53.3006\n",
      "Predicted: 53.7575, Actual: 71.2987\n",
      "Predicted: 33.8907, Actual: 32.9225\n",
      "Predicted: 26.3998, Actual: 26.9227\n",
      "Predicted: 35.8136, Actual: 30.4473\n",
      "Predicted: 31.9701, Actual: 12.7884\n",
      "Predicted: 26.4168, Actual: 23.2452\n",
      "Predicted: 60.4553, Actual: 66.8999\n",
      "Predicted: 41.6188, Actual: 44.1334\n",
      "Predicted: 30.1182, Actual: 26.1449\n",
      "Predicted: 38.048, Actual: 53.462\n",
      "Predicted: 19.2072, Actual: 14.2032\n",
      "Predicted: 16.5925, Actual: 17.5403\n",
      "Predicted: 45.1967, Actual: 52.4415\n",
      "Predicted: 15.5132, Actual: 8.5357\n",
      "Predicted: 20.917, Actual: 14.6383\n",
      "Predicted: 30.5158, Actual: 39.1622\n",
      "Predicted: 38.372, Actual: 43.5749\n",
      "Predicted: 42.2791, Actual: 43.5818\n",
      "Predicted: 37.815, Actual: 47.4015\n",
      "Predicted: 40.8791, Actual: 37.917\n",
      "Predicted: 21.4155, Actual: 13.664\n",
      "Predicted: 61.552, Actual: 64.9004\n",
      "Predicted: 29.5781, Actual: 28.627\n",
      "Predicted: 33.7411, Actual: 35.2322\n",
      "Predicted: 34.7942, Actual: 42.6441\n",
      "Predicted: 52.8813, Actual: 55.2601\n",
      "Predicted: 41.1129, Actual: 51.8638\n",
      "Predicted: 54.9549, Actual: 60.2947\n",
      "Predicted: 53.7733, Actual: 55.1994\n",
      "Predicted: 27.5215, Actual: 19.5191\n",
      "Predicted: 27.4127, Actual: 40.2309\n",
      "Predicted: 50.2468, Actual: 42.6206\n",
      "Predicted: 37.1446, Actual: 48.284\n",
      "Predicted: 26.1623, Actual: 15.5697\n",
      "Predicted: 25.3246, Actual: 23.7442\n",
      "Predicted: 22.7401, Actual: 12.5416\n",
      "Predicted: 24.6838, Actual: 25.6899\n",
      "Predicted: 21.2772, Actual: 15.5753\n",
      "Predicted: 37.7842, Actual: 39.2898\n",
      "Predicted: 22.3997, Actual: 17.1659\n",
      "Predicted: 50.6026, Actual: 33.3982\n",
      "Predicted: 46.2717, Actual: 59.7983\n",
      "Predicted: 43.4132, Actual: 47.2774\n",
      "Predicted: 36.8513, Actual: 27.4205\n",
      "Predicted: 35.9254, Actual: 37.171\n",
      "Predicted: 65.1974, Actual: 65.1969\n",
      "Predicted: 25.5961, Actual: 20.7256\n",
      "Predicted: 41.3023, Actual: 41.9408\n",
      "Predicted: 53.6321, Actual: 55.5993\n",
      "Predicted: 63.6499, Actual: 79.2966\n",
      "Predicted: 23.7489, Actual: 21.5392\n",
      "Predicted: 37.2023, Actual: 53.7722\n",
      "Predicted: 34.6664, Actual: 35.0764\n",
      "Predicted: 30.6164, Actual: 23.7869\n",
      "Predicted: 26.7344, Actual: 27.2205\n",
      "Predicted: 56.0234, Actual: 66.7807\n",
      "Predicted: 77.0872, Actual: 74.1669\n",
      "Predicted: 28.7997, Actual: 31.8124\n",
      "Predicted: 61.5088, Actual: 44.698\n",
      "Predicted: 26.3422, Actual: 24.4281\n",
      "Predicted: 38.1192, Actual: 33.9429\n",
      "Predicted: 54.4288, Actual: 33.7016\n",
      "Predicted: 33.7514, Actual: 21.8198\n",
      "Predicted: 20.7408, Actual: 11.8521\n",
      "Predicted: 30.4663, Actual: 17.3679\n",
      "Predicted: 29.03, Actual: 23.6966\n",
      "Predicted: 27.4537, Actual: 33.2741\n",
      "Predicted: 23.1968, Actual: 21.753\n",
      "Predicted: 34.1017, Actual: 33.0535\n",
      "Predicted: 29.0766, Actual: 15.6097\n",
      "Predicted: 24.1421, Actual: 13.1207\n",
      "Predicted: 24.7063, Actual: 16.2647\n",
      "Predicted: 23.9369, Actual: 6.9023\n",
      "Predicted: 29.3182, Actual: 26.258\n",
      "Predicted: 31.72, Actual: 19.1991\n",
      "Predicted: 16.1494, Actual: 7.507\n",
      "Predicted: 32.7894, Actual: 21.7805\n",
      "Predicted: 37.6361, Actual: 48.9873\n",
      "Predicted: 26.3247, Actual: 36.4388\n",
      "Predicted: 37.0907, Actual: 27.6273\n",
      "Predicted: 41.5435, Actual: 41.0514\n",
      "Predicted: 32.462, Actual: 30.1439\n",
      "Predicted: 39.1783, Actual: 39.3829\n",
      "Predicted: 49.7479, Actual: 41.2996\n",
      "Predicted: 16.2604, Actual: 3.3198\n",
      "Predicted: 51.31, Actual: 49.201\n",
      "Predicted: 42.4038, Actual: 51.4349\n",
      "Predicted: 35.4053, Actual: 39.5828\n",
      "Predicted: 32.3253, Actual: 30.2756\n",
      "Predicted: 38.313, Actual: 37.2655\n",
      "Predicted: 53.1339, Actual: 68.4994\n",
      "Predicted: 50.5919, Actual: 44.5236\n",
      "Predicted: 52.2622, Actual: 36.3009\n",
      "Predicted: 50.7061, Actual: 38.0177\n",
      "Predicted: 35.9013, Actual: 44.3954\n"
     ]
    }
   ],
   "source": [
    "ytest = np.array(ytest)\n",
    "for i in range(ytest.shape[0]):\n",
    "    print(\"Predicted: {0}, Actual: {1}\".format(ytest_predict[i].round(4),ytest[i].round(4)))"
   ]
  },
  {
   "cell_type": "code",
   "execution_count": 18,
   "metadata": {},
   "outputs": [
    {
     "name": "stdout",
     "output_type": "stream",
     "text": [
      "Predicted: 47.7999, Actual: 39.6104\n",
      "Predicted: 55.683, Actual: 50.6972\n",
      "Predicted: 43.3238, Actual: 46.2473\n",
      "Predicted: 16.2381, Actual: 15.5201\n",
      "Predicted: 58.5663, Actual: 51.0212\n",
      "Predicted: 48.5035, Actual: 41.6375\n",
      "Predicted: 10.899, Actual: 8.5364\n",
      "Predicted: 10.8508, Actual: 10.3359\n",
      "Predicted: 12.9602, Actual: 11.4839\n",
      "Predicted: 32.1418, Actual: 23.2216\n",
      "Predicted: 25.9368, Actual: 13.3345\n",
      "Predicted: 35.4924, Actual: 21.0221\n",
      "Predicted: 51.5383, Actual: 53.9584\n",
      "Predicted: 38.9748, Actual: 29.0683\n",
      "Predicted: 23.3817, Actual: 16.8784\n",
      "Predicted: 24.1364, Actual: 20.9187\n",
      "Predicted: 29.4558, Actual: 26.7724\n",
      "Predicted: 75.9723, Actual: 55.1581\n",
      "Predicted: 17.6446, Actual: 10.3546\n",
      "Predicted: 45.4297, Actual: 44.2988\n",
      "Predicted: 64.4876, Actual: 68.2995\n",
      "Predicted: 25.1207, Actual: 9.6175\n",
      "Predicted: 30.3826, Actual: 34.2945\n",
      "Predicted: 27.1347, Actual: 15.7483\n",
      "Predicted: 80.4559, Actual: 79.2966\n",
      "Predicted: 40.2964, Actual: 33.7567\n",
      "Predicted: 40.881, Actual: 32.768\n",
      "Predicted: 31.4123, Actual: 26.3228\n",
      "Predicted: 38.4829, Actual: 38.5003\n",
      "Predicted: 39.7084, Actual: 52.3036\n",
      "Predicted: 37.3066, Actual: 33.019\n"
     ]
    }
   ],
   "source": [
    "yreal = np.array(yreal)\n",
    "for i in range(yreal.shape[0]):\n",
    "    print(\"Predicted: {0}, Actual: {1}\".format(yreal_predict[i].round(4),yreal[i].round(4)))"
   ]
  },
  {
   "cell_type": "code",
   "execution_count": null,
   "metadata": {},
   "outputs": [],
   "source": []
  }
 ],
 "metadata": {
  "kernelspec": {
   "display_name": "Python 3",
   "language": "python",
   "name": "python3"
  },
  "language_info": {
   "codemirror_mode": {
    "name": "ipython",
    "version": 3
   },
   "file_extension": ".py",
   "mimetype": "text/x-python",
   "name": "python",
   "nbconvert_exporter": "python",
   "pygments_lexer": "ipython3",
   "version": "3.7.0"
  }
 },
 "nbformat": 4,
 "nbformat_minor": 2
}
